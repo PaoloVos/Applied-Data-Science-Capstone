{
  "nbformat": 4,
  "nbformat_minor": 0,
  "metadata": {
    "colab": {
      "name": "Paolo_Vos_AppliedDataScienceCapstone.ipynb",
      "provenance": []
    },
    "kernelspec": {
      "name": "python3",
      "display_name": "Python 3"
    },
    "language_info": {
      "name": "python"
    }
  },
  "cells": [
    {
      "cell_type": "code",
      "execution_count": 1,
      "metadata": {
        "colab": {
          "base_uri": "https://localhost:8080/"
        },
        "id": "3_IP4L72AfLi",
        "outputId": "0e400373-5c51-4658-c5bd-d41857bc863a"
      },
      "outputs": [
        {
          "output_type": "stream",
          "name": "stdout",
          "text": [
            "Applied Data Science Capstone - Paolo Vos\n"
          ]
        }
      ],
      "source": [
        "print('Applied Data Science Capstone - Paolo Vos')"
      ]
    }
  ]
}